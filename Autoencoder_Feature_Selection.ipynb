{
 "cells": [
  {
   "cell_type": "markdown",
   "id": "27ee16ba",
   "metadata": {},
   "source": [
    "# Load Dependencies"
   ]
  },
  {
   "cell_type": "code",
   "execution_count": 7,
   "id": "7ec5f6f2",
   "metadata": {},
   "outputs": [],
   "source": [
    "# Import necessary libraries for loading and processing data\n",
    "import numpy as np\n",
    "import pandas as pd\n",
    "from sklearn.preprocessing import StandardScaler\n",
    "from sklearn.model_selection import train_test_split\n",
    "from sklearn.datasets import load_iris\n",
    "\n",
    "# Import Keras for implementing autoencoders\n",
    "import keras"
   ]
  },
  {
   "cell_type": "markdown",
   "id": "898c8e4c",
   "metadata": {},
   "source": [
    "# Load and Preprocess Data"
   ]
  },
  {
   "cell_type": "code",
   "execution_count": 8,
   "id": "e2df1a07",
   "metadata": {},
   "outputs": [],
   "source": [
    "# load the Iris dataset\n",
    "iris = load_iris()\n",
    "data = iris.data\n",
    "target = iris.target\n",
    "\n",
    "# Standardize the data\n",
    "scaler = StandardScaler()\n",
    "data = scaler.fit_transform(data)\n",
    "\n",
    "# Split the data into training and test sets\n",
    "X_train, X_test, y_train, y_test = train_test_split(data, target, \n",
    "                                                    test_size=0.2, random_state=42)"
   ]
  },
  {
   "cell_type": "markdown",
   "id": "bf8ef804",
   "metadata": {},
   "source": [
    "# Define Autoencoder Architecture"
   ]
  },
  {
   "cell_type": "code",
   "execution_count": 9,
   "id": "9613c69b",
   "metadata": {},
   "outputs": [
    {
     "name": "stdout",
     "output_type": "stream",
     "text": [
      "Model: \"model_2\"\n",
      "_________________________________________________________________\n",
      " Layer (type)                Output Shape              Param #   \n",
      "=================================================================\n",
      " input_2 (InputLayer)        [(None, 4)]               0         \n",
      "                                                                 \n",
      " dense_2 (Dense)             (None, 2)                 10        \n",
      "                                                                 \n",
      " dense_3 (Dense)             (None, 4)                 12        \n",
      "                                                                 \n",
      "=================================================================\n",
      "Total params: 22\n",
      "Trainable params: 22\n",
      "Non-trainable params: 0\n",
      "_________________________________________________________________\n"
     ]
    }
   ],
   "source": [
    "# Define the autoencoder architecture\n",
    "input_dim = X_train.shape[1]\n",
    "encoding_dim = 2  # Set the encoding dimension\n",
    "\n",
    "input_layer = keras.layers.Input(shape=(input_dim,))\n",
    "encoder = keras.layers.Dense(encoding_dim, activation=\"relu\")(input_layer)\n",
    "decoder = keras.layers.Dense(input_dim, activation=\"sigmoid\")(encoder)\n",
    "\n",
    "autoencoder = keras.Model(inputs=input_layer, outputs=decoder)\n",
    "\n",
    "# Compile the autoencoder\n",
    "autoencoder.compile(optimizer='adam', loss='mse')\n",
    "\n",
    "# Summary of the autoencoder architecture\n",
    "autoencoder.summary()"
   ]
  },
  {
   "cell_type": "markdown",
   "id": "153ac4a8",
   "metadata": {},
   "source": [
    "# Train Autoencoder"
   ]
  },
  {
   "cell_type": "code",
   "execution_count": 10,
   "id": "ffcf8907",
   "metadata": {
    "scrolled": true
   },
   "outputs": [
    {
     "name": "stdout",
     "output_type": "stream",
     "text": [
      "Epoch 1/100\n",
      "4/4 [==============================] - 1s 65ms/step - loss: 1.2621 - val_loss: 1.1534\n",
      "Epoch 2/100\n",
      "4/4 [==============================] - 0s 22ms/step - loss: 1.2584 - val_loss: 1.1499\n",
      "Epoch 3/100\n",
      "4/4 [==============================] - 0s 20ms/step - loss: 1.2548 - val_loss: 1.1461\n",
      "Epoch 4/100\n",
      "4/4 [==============================] - 0s 16ms/step - loss: 1.2512 - val_loss: 1.1421\n",
      "Epoch 5/100\n",
      "4/4 [==============================] - 0s 19ms/step - loss: 1.2475 - val_loss: 1.1381\n",
      "Epoch 6/100\n",
      "4/4 [==============================] - 0s 23ms/step - loss: 1.2433 - val_loss: 1.1341\n",
      "Epoch 7/100\n",
      "4/4 [==============================] - 0s 16ms/step - loss: 1.2395 - val_loss: 1.1300\n",
      "Epoch 8/100\n",
      "4/4 [==============================] - 0s 18ms/step - loss: 1.2355 - val_loss: 1.1258\n",
      "Epoch 9/100\n",
      "4/4 [==============================] - 0s 15ms/step - loss: 1.2313 - val_loss: 1.1217\n",
      "Epoch 10/100\n",
      "4/4 [==============================] - 0s 16ms/step - loss: 1.2274 - val_loss: 1.1175\n",
      "Epoch 11/100\n",
      "4/4 [==============================] - 0s 20ms/step - loss: 1.2229 - val_loss: 1.1134\n",
      "Epoch 12/100\n",
      "4/4 [==============================] - 0s 20ms/step - loss: 1.2190 - val_loss: 1.1093\n",
      "Epoch 13/100\n",
      "4/4 [==============================] - 0s 24ms/step - loss: 1.2148 - val_loss: 1.1052\n",
      "Epoch 14/100\n",
      "4/4 [==============================] - 0s 29ms/step - loss: 1.2103 - val_loss: 1.1012\n",
      "Epoch 15/100\n",
      "4/4 [==============================] - 0s 17ms/step - loss: 1.2063 - val_loss: 1.0971\n",
      "Epoch 16/100\n",
      "4/4 [==============================] - 0s 19ms/step - loss: 1.2018 - val_loss: 1.0931\n",
      "Epoch 17/100\n",
      "4/4 [==============================] - 0s 27ms/step - loss: 1.1975 - val_loss: 1.0890\n",
      "Epoch 18/100\n",
      "4/4 [==============================] - 0s 21ms/step - loss: 1.1931 - val_loss: 1.0849\n",
      "Epoch 19/100\n",
      "4/4 [==============================] - 0s 19ms/step - loss: 1.1889 - val_loss: 1.0808\n",
      "Epoch 20/100\n",
      "4/4 [==============================] - 0s 17ms/step - loss: 1.1847 - val_loss: 1.0766\n",
      "Epoch 21/100\n",
      "4/4 [==============================] - 0s 17ms/step - loss: 1.1803 - val_loss: 1.0725\n",
      "Epoch 22/100\n",
      "4/4 [==============================] - 0s 13ms/step - loss: 1.1761 - val_loss: 1.0683\n",
      "Epoch 23/100\n",
      "4/4 [==============================] - 0s 16ms/step - loss: 1.1715 - val_loss: 1.0643\n",
      "Epoch 24/100\n",
      "4/4 [==============================] - 0s 16ms/step - loss: 1.1673 - val_loss: 1.0602\n",
      "Epoch 25/100\n",
      "4/4 [==============================] - 0s 20ms/step - loss: 1.1631 - val_loss: 1.0561\n",
      "Epoch 26/100\n",
      "4/4 [==============================] - 0s 22ms/step - loss: 1.1588 - val_loss: 1.0520\n",
      "Epoch 27/100\n",
      "4/4 [==============================] - 0s 19ms/step - loss: 1.1544 - val_loss: 1.0480\n",
      "Epoch 28/100\n",
      "4/4 [==============================] - 0s 19ms/step - loss: 1.1500 - val_loss: 1.0440\n",
      "Epoch 29/100\n",
      "4/4 [==============================] - 0s 16ms/step - loss: 1.1460 - val_loss: 1.0400\n",
      "Epoch 30/100\n",
      "4/4 [==============================] - 0s 13ms/step - loss: 1.1414 - val_loss: 1.0359\n",
      "Epoch 31/100\n",
      "4/4 [==============================] - 0s 20ms/step - loss: 1.1373 - val_loss: 1.0318\n",
      "Epoch 32/100\n",
      "4/4 [==============================] - 0s 23ms/step - loss: 1.1330 - val_loss: 1.0277\n",
      "Epoch 33/100\n",
      "4/4 [==============================] - 0s 17ms/step - loss: 1.1286 - val_loss: 1.0236\n",
      "Epoch 34/100\n",
      "4/4 [==============================] - 0s 16ms/step - loss: 1.1246 - val_loss: 1.0195\n",
      "Epoch 35/100\n",
      "4/4 [==============================] - 0s 16ms/step - loss: 1.1204 - val_loss: 1.0155\n",
      "Epoch 36/100\n",
      "4/4 [==============================] - 0s 19ms/step - loss: 1.1160 - val_loss: 1.0115\n",
      "Epoch 37/100\n",
      "4/4 [==============================] - 0s 17ms/step - loss: 1.1117 - val_loss: 1.0077\n",
      "Epoch 38/100\n",
      "4/4 [==============================] - 0s 20ms/step - loss: 1.1077 - val_loss: 1.0038\n",
      "Epoch 39/100\n",
      "4/4 [==============================] - 0s 17ms/step - loss: 1.1035 - val_loss: 0.9999\n",
      "Epoch 40/100\n",
      "4/4 [==============================] - 0s 16ms/step - loss: 1.0995 - val_loss: 0.9960\n",
      "Epoch 41/100\n",
      "4/4 [==============================] - 0s 20ms/step - loss: 1.0954 - val_loss: 0.9921\n",
      "Epoch 42/100\n",
      "4/4 [==============================] - 0s 18ms/step - loss: 1.0913 - val_loss: 0.9881\n",
      "Epoch 43/100\n",
      "4/4 [==============================] - 0s 28ms/step - loss: 1.0870 - val_loss: 0.9842\n",
      "Epoch 44/100\n",
      "4/4 [==============================] - 0s 17ms/step - loss: 1.0831 - val_loss: 0.9802\n",
      "Epoch 45/100\n",
      "4/4 [==============================] - 0s 15ms/step - loss: 1.0791 - val_loss: 0.9761\n",
      "Epoch 46/100\n",
      "4/4 [==============================] - 0s 17ms/step - loss: 1.0749 - val_loss: 0.9720\n",
      "Epoch 47/100\n",
      "4/4 [==============================] - 0s 18ms/step - loss: 1.0707 - val_loss: 0.9679\n",
      "Epoch 48/100\n",
      "4/4 [==============================] - 0s 15ms/step - loss: 1.0668 - val_loss: 0.9638\n",
      "Epoch 49/100\n",
      "4/4 [==============================] - 0s 18ms/step - loss: 1.0627 - val_loss: 0.9597\n",
      "Epoch 50/100\n",
      "4/4 [==============================] - 0s 14ms/step - loss: 1.0587 - val_loss: 0.9555\n",
      "Epoch 51/100\n",
      "4/4 [==============================] - 0s 16ms/step - loss: 1.0546 - val_loss: 0.9513\n",
      "Epoch 52/100\n",
      "4/4 [==============================] - 0s 17ms/step - loss: 1.0504 - val_loss: 0.9471\n",
      "Epoch 53/100\n",
      "4/4 [==============================] - 0s 15ms/step - loss: 1.0464 - val_loss: 0.9428\n",
      "Epoch 54/100\n",
      "4/4 [==============================] - 0s 21ms/step - loss: 1.0421 - val_loss: 0.9386\n",
      "Epoch 55/100\n",
      "4/4 [==============================] - 0s 19ms/step - loss: 1.0381 - val_loss: 0.9344\n",
      "Epoch 56/100\n",
      "4/4 [==============================] - 0s 15ms/step - loss: 1.0342 - val_loss: 0.9301\n",
      "Epoch 57/100\n",
      "4/4 [==============================] - 0s 17ms/step - loss: 1.0299 - val_loss: 0.9258\n",
      "Epoch 58/100\n",
      "4/4 [==============================] - 0s 14ms/step - loss: 1.0259 - val_loss: 0.9216\n",
      "Epoch 59/100\n",
      "4/4 [==============================] - 0s 15ms/step - loss: 1.0218 - val_loss: 0.9173\n",
      "Epoch 60/100\n",
      "4/4 [==============================] - 0s 22ms/step - loss: 1.0178 - val_loss: 0.9130\n",
      "Epoch 61/100\n",
      "4/4 [==============================] - 0s 16ms/step - loss: 1.0138 - val_loss: 0.9087\n",
      "Epoch 62/100\n",
      "4/4 [==============================] - 0s 25ms/step - loss: 1.0095 - val_loss: 0.9045\n",
      "Epoch 63/100\n",
      "4/4 [==============================] - 0s 27ms/step - loss: 1.0058 - val_loss: 0.9002\n",
      "Epoch 64/100\n",
      "4/4 [==============================] - 0s 32ms/step - loss: 1.0017 - val_loss: 0.8960\n",
      "Epoch 65/100\n",
      "4/4 [==============================] - 0s 15ms/step - loss: 0.9978 - val_loss: 0.8917\n",
      "Epoch 66/100\n",
      "4/4 [==============================] - 0s 17ms/step - loss: 0.9939 - val_loss: 0.8875\n",
      "Epoch 67/100\n",
      "4/4 [==============================] - 0s 24ms/step - loss: 0.9900 - val_loss: 0.8833\n",
      "Epoch 68/100\n",
      "4/4 [==============================] - 0s 22ms/step - loss: 0.9860 - val_loss: 0.8792\n",
      "Epoch 69/100\n",
      "4/4 [==============================] - 0s 29ms/step - loss: 0.9822 - val_loss: 0.8751\n",
      "Epoch 70/100\n",
      "4/4 [==============================] - 0s 22ms/step - loss: 0.9785 - val_loss: 0.8709\n",
      "Epoch 71/100\n",
      "4/4 [==============================] - 0s 18ms/step - loss: 0.9748 - val_loss: 0.8668\n",
      "Epoch 72/100\n",
      "4/4 [==============================] - 0s 33ms/step - loss: 0.9710 - val_loss: 0.8628\n",
      "Epoch 73/100\n",
      "4/4 [==============================] - 0s 32ms/step - loss: 0.9673 - val_loss: 0.8588\n",
      "Epoch 74/100\n",
      "4/4 [==============================] - 0s 14ms/step - loss: 0.9637 - val_loss: 0.8548\n",
      "Epoch 75/100\n",
      "4/4 [==============================] - 0s 18ms/step - loss: 0.9600 - val_loss: 0.8509\n",
      "Epoch 76/100\n",
      "4/4 [==============================] - 0s 19ms/step - loss: 0.9566 - val_loss: 0.8470\n",
      "Epoch 77/100\n",
      "4/4 [==============================] - 0s 16ms/step - loss: 0.9530 - val_loss: 0.8431\n",
      "Epoch 78/100\n",
      "4/4 [==============================] - 0s 18ms/step - loss: 0.9496 - val_loss: 0.8393\n",
      "Epoch 79/100\n",
      "4/4 [==============================] - 0s 16ms/step - loss: 0.9460 - val_loss: 0.8356\n",
      "Epoch 80/100\n",
      "4/4 [==============================] - 0s 17ms/step - loss: 0.9428 - val_loss: 0.8318\n",
      "Epoch 81/100\n",
      "4/4 [==============================] - 0s 16ms/step - loss: 0.9394 - val_loss: 0.8282\n",
      "Epoch 82/100\n",
      "4/4 [==============================] - 0s 21ms/step - loss: 0.9360 - val_loss: 0.8246\n",
      "Epoch 83/100\n",
      "4/4 [==============================] - 0s 29ms/step - loss: 0.9329 - val_loss: 0.8210\n"
     ]
    },
    {
     "name": "stdout",
     "output_type": "stream",
     "text": [
      "Epoch 84/100\n",
      "4/4 [==============================] - 0s 26ms/step - loss: 0.9295 - val_loss: 0.8174\n",
      "Epoch 85/100\n",
      "4/4 [==============================] - 0s 23ms/step - loss: 0.9264 - val_loss: 0.8139\n",
      "Epoch 86/100\n",
      "4/4 [==============================] - 0s 23ms/step - loss: 0.9232 - val_loss: 0.8104\n",
      "Epoch 87/100\n",
      "4/4 [==============================] - 0s 23ms/step - loss: 0.9201 - val_loss: 0.8070\n",
      "Epoch 88/100\n",
      "4/4 [==============================] - 0s 22ms/step - loss: 0.9171 - val_loss: 0.8036\n",
      "Epoch 89/100\n",
      "4/4 [==============================] - 0s 15ms/step - loss: 0.9140 - val_loss: 0.8004\n",
      "Epoch 90/100\n",
      "4/4 [==============================] - 0s 17ms/step - loss: 0.9111 - val_loss: 0.7971\n",
      "Epoch 91/100\n",
      "4/4 [==============================] - 0s 17ms/step - loss: 0.9081 - val_loss: 0.7939\n",
      "Epoch 92/100\n",
      "4/4 [==============================] - 0s 24ms/step - loss: 0.9053 - val_loss: 0.7907\n",
      "Epoch 93/100\n",
      "4/4 [==============================] - 0s 16ms/step - loss: 0.9023 - val_loss: 0.7877\n",
      "Epoch 94/100\n",
      "4/4 [==============================] - 0s 19ms/step - loss: 0.8996 - val_loss: 0.7846\n",
      "Epoch 95/100\n",
      "4/4 [==============================] - 0s 20ms/step - loss: 0.8969 - val_loss: 0.7816\n",
      "Epoch 96/100\n",
      "4/4 [==============================] - 0s 17ms/step - loss: 0.8941 - val_loss: 0.7786\n",
      "Epoch 97/100\n",
      "4/4 [==============================] - 0s 19ms/step - loss: 0.8915 - val_loss: 0.7757\n",
      "Epoch 98/100\n",
      "4/4 [==============================] - 0s 17ms/step - loss: 0.8888 - val_loss: 0.7729\n",
      "Epoch 99/100\n",
      "4/4 [==============================] - 0s 14ms/step - loss: 0.8863 - val_loss: 0.7700\n",
      "Epoch 100/100\n",
      "4/4 [==============================] - 0s 16ms/step - loss: 0.8836 - val_loss: 0.7673\n"
     ]
    },
    {
     "data": {
      "text/plain": [
       "<keras.callbacks.History at 0x137f12650>"
      ]
     },
     "execution_count": 10,
     "metadata": {},
     "output_type": "execute_result"
    }
   ],
   "source": [
    "# Train the autoencoder\n",
    "autoencoder.fit(X_train, X_train, epochs=100, batch_size=32, shuffle=True, validation_data=(X_test, X_test))"
   ]
  },
  {
   "cell_type": "markdown",
   "id": "30890d5d",
   "metadata": {},
   "source": [
    "# Select Best Features with Autoencoder"
   ]
  },
  {
   "cell_type": "code",
   "execution_count": 11,
   "id": "9550da1a",
   "metadata": {},
   "outputs": [
    {
     "name": "stdout",
     "output_type": "stream",
     "text": [
      "4/4 [==============================] - 0s 3ms/step\n",
      "1/1 [==============================] - 0s 24ms/step\n",
      "Encoded Features Shape (Train): (120, 2)\n",
      "Encoded Features Shape (Test): (30, 2)\n"
     ]
    }
   ],
   "source": [
    "# Extract features from the encoder part of the autoencoder\n",
    "encoder = keras.Model(inputs=autoencoder.input, outputs=autoencoder.layers[1].output)\n",
    "encoded_features_train = encoder.predict(X_train)\n",
    "encoded_features_test = encoder.predict(X_test)\n",
    "\n",
    "# Display the shape of extracted features\n",
    "print(\"Encoded Features Shape (Train):\", encoded_features_train.shape)\n",
    "print(\"Encoded Features Shape (Test):\", encoded_features_test.shape)"
   ]
  },
  {
   "cell_type": "markdown",
   "id": "56d3c351",
   "metadata": {},
   "source": [
    "# Use Selected Features for Training"
   ]
  },
  {
   "cell_type": "code",
   "execution_count": 13,
   "id": "ae6ddc2b",
   "metadata": {},
   "outputs": [
    {
     "name": "stdout",
     "output_type": "stream",
     "text": [
      "Accuracy with Selected Features: 1.0\n"
     ]
    }
   ],
   "source": [
    "# Import a predictive model (e.g., logistic regression)\n",
    "from sklearn.linear_model import LogisticRegression\n",
    "from sklearn.metrics import accuracy_score\n",
    "\n",
    "# Fit a logistic regression model using the selected features\n",
    "model = LogisticRegression()\n",
    "model.fit(encoded_features_train, y_train)\n",
    "\n",
    "# Make predictions on the test set\n",
    "y_pred = model.predict(encoded_features_test)\n",
    "\n",
    "# Calculate accuracy\n",
    "accuracy = accuracy_score(y_test, y_pred)\n",
    "print(\"Accuracy with Selected Features:\", accuracy)"
   ]
  },
  {
   "cell_type": "code",
   "execution_count": null,
   "id": "6bbc9d98",
   "metadata": {},
   "outputs": [],
   "source": []
  }
 ],
 "metadata": {
  "kernelspec": {
   "display_name": "Python 3 (ipykernel)",
   "language": "python",
   "name": "python3"
  },
  "language_info": {
   "codemirror_mode": {
    "name": "ipython",
    "version": 3
   },
   "file_extension": ".py",
   "mimetype": "text/x-python",
   "name": "python",
   "nbconvert_exporter": "python",
   "pygments_lexer": "ipython3",
   "version": "3.11.2"
  }
 },
 "nbformat": 4,
 "nbformat_minor": 5
}
